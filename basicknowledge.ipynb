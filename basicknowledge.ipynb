{
 "cells": [
  {
   "cell_type": "code",
   "execution_count": 1,
   "metadata": {},
   "outputs": [],
   "source": [
    "# 单行注释\n",
    "# Python 3支持UTF-8，但是Python 2需要如下的声明行\n",
    "# -*- coding:UTF-8 -*-"
   ]
  },
  {
   "cell_type": "code",
   "execution_count": 2,
   "metadata": {},
   "outputs": [],
   "source": [
    "# 导入其它模块用import，如下行是导入了os.py\n",
    "import os"
   ]
  },
  {
   "cell_type": "code",
   "execution_count": 3,
   "metadata": {},
   "outputs": [
    {
     "name": "stdout",
     "output_type": "stream",
     "text": [
      "Hello, World!\n",
      "这是来自Alice'的问候。\n",
      "这是来自Bob'的问候。\n"
     ]
    }
   ],
   "source": [
    "# 字符串可以用单引号括起来，也可以用双引号括起来\n",
    "# 字符串里的特殊字符要用反斜杠“|”来转义\n",
    "print(\"Hello, World!\")\n",
    "print(\"这是来自Alice\\'的问候。\")\n",
    "print('这是来自Bob\\'的问候。')"
   ]
  },
  {
   "cell_type": "code",
   "execution_count": 4,
   "metadata": {},
   "outputs": [
    {
     "name": "stdout",
     "output_type": "stream",
     "text": [
      "##########\n"
     ]
    }
   ],
   "source": [
    "# 字符串可乘，\"#\" * 10 相当于 10个#\n",
    "print(\"#\" * 10)"
   ]
  },
  {
   "cell_type": "code",
   "execution_count": 5,
   "metadata": {},
   "outputs": [
    {
     "name": "stdout",
     "output_type": "stream",
     "text": [
      "My name is Alice......\n",
      "当前的目录是：/Users/chinaevan/PycharmProjects/testproject\n"
     ]
    }
   ],
   "source": [
    "# 字符串可以用“+”号连接\n",
    "print(\"My name is Alice\" + \".\" * 6)\n",
    "print(\"当前的目录是：\" + os.getcwd())"
   ]
  },
  {
   "cell_type": "code",
   "execution_count": 6,
   "metadata": {},
   "outputs": [
    {
     "name": "stdout",
     "output_type": "stream",
     "text": [
      "My name is Alice ......\n",
      "当前的目录是： /Users/chinaevan/PycharmProjects/testproject\n"
     ]
    }
   ],
   "source": [
    "# print打印时，可以将几个变量用逗号隔起\n",
    "print(\"My name is Alice\",\".\" * 6)\n",
    "print(\"当前的目录是：\",os.getcwd())"
   ]
  },
  {
   "cell_type": "code",
   "execution_count": 7,
   "metadata": {},
   "outputs": [
    {
     "name": "stdout",
     "output_type": "stream",
     "text": [
      "1\n"
     ]
    }
   ],
   "source": [
    "# 变量得先实例化，才可进一步计算\n",
    "counter = 0\n",
    "counter += 1\n",
    "print(counter)"
   ]
  },
  {
   "cell_type": "code",
   "execution_count": 8,
   "metadata": {},
   "outputs": [
    {
     "name": "stdout",
     "output_type": "stream",
     "text": [
      "第1种水果是：苹果\n",
      "第2种水果是：梨子\n",
      "第3种水果是：香蕉\n",
      "第4种水果是：菠萝\n",
      "第5种水果是：桃子\n"
     ]
    }
   ],
   "source": [
    "# 列表需要用中括号[]括起来\n",
    "# 列表里的元素可以是任意类型，包括列表\n",
    "food = [\"苹果\",\"梨子\",\"香蕉\",\"菠萝\",\"桃子\"]\n",
    "counter = 0\n",
    "\n",
    "# 在循环中，i代表了每个元素\n",
    "# Python中的程序块是缩进表示，一般是4个空格\n",
    "# 注意：字符串与与数字不能直接连接，需要将数字用str()函数转成字符串\n",
    "for i in food:\n",
    "    counter += 1\n",
    "    print(\"第\" + str(counter) + \"种水果是：\" + i)"
   ]
  },
  {
   "cell_type": "code",
   "execution_count": 9,
   "metadata": {},
   "outputs": [
    {
     "name": "stdout",
     "output_type": "stream",
     "text": [
      "第1种水果是：苹果\n",
      "第2种水果是：梨子\n",
      "第3种水果是：香蕉\n",
      "第4种水果是：菠萝\n",
      "第5种水果是：桃子\n"
     ]
    }
   ],
   "source": [
    "# 上例中的counter在print的时候也可以格式化输出\n",
    "food = [\"苹果\",\"梨子\",\"香蕉\",\"菠萝\",\"桃子\"]\n",
    "counter = 0\n",
    "\n",
    "for i in food:\n",
    "    counter += 1\n",
    "    print(\"第%d种水果是：\" % counter + i)"
   ]
  },
  {
   "cell_type": "code",
   "execution_count": 6,
   "metadata": {},
   "outputs": [
    {
     "name": "stdout",
     "output_type": "stream",
     "text": [
      "20转换成八进制的结果：24\n",
      "20转换成十进制的结果：20\n",
      "20转换成十六进制的结果：14\n"
     ]
    }
   ],
   "source": [
    "# https://www.cnblogs.com/qinchao0317/p/10699717.html\n",
    "# 多行注释左右分别用3个单引号括起来\n",
    "'''\n",
    "整数的格式化输出\n",
    "%o —— oct 八进制\n",
    "%d —— dec 十进制\n",
    "%x —— hex 十六进制\n",
    "'''\n",
    "\n",
    "print('20转换成八进制的结果：%o' % 20)\n",
    "print('20转换成十进制的结果：%d' % 20)\n",
    "print('20转换成十六进制的结果：%x' % 20)"
   ]
  },
  {
   "cell_type": "code",
   "execution_count": 4,
   "metadata": {},
   "outputs": [
    {
     "ename": "SyntaxError",
     "evalue": "invalid syntax (<ipython-input-4-75afa2f8137c>, line 17)",
     "output_type": "error",
     "traceback": [
      "\u001b[0;36m  File \u001b[0;32m\"<ipython-input-4-75afa2f8137c>\"\u001b[0;36m, line \u001b[0;32m17\u001b[0m\n\u001b[0;31m    print('%g' % 123456789)     ''科学计数法\u001b[0m\n\u001b[0m                                 ^\u001b[0m\n\u001b[0;31mSyntaxError\u001b[0m\u001b[0;31m:\u001b[0m invalid syntax\n"
     ]
    }
   ],
   "source": [
    "# 浮点数的格式化输出\n",
    "# %f ——保留小数点后面六位有效数字\n",
    "# 　　%.3f，保留3位小数位\n",
    "print('%f' % 123.4567)\n",
    "print('%.3f' % 123.4567)   # 保留3位小数\n",
    "\n",
    "# %e ——保留小数点后面六位有效数字，指数形式输出\n",
    "# 　　%.3e，保留3位小数位，使用科学计数法\n",
    "print('%e' % 123.4567)\n",
    "print('%.3e' % 123.4567)\n",
    "\n",
    "# %g ——在保证六位有效数字的前提下，使用小数方式，否则使用科学计数法\n",
    "# 　　%.3g，保留3位有效数字，使用小数或科学计数法\n",
    "print('%g' % 123.4567)\n",
    "print('%.3g' % 123.4567)\n",
    "print('%.2g' % 123.4567)\n",
    "print('%g' % 123456789)"
   ]
  },
  {
   "cell_type": "code",
   "execution_count": 12,
   "metadata": {},
   "outputs": [
    {
     "name": "stdout",
     "output_type": "stream",
     "text": [
      "0\n",
      "1\n",
      "2\n",
      "3\n"
     ]
    }
   ],
   "source": [
    "# range()是一个内置的函数\n",
    "# 注意range(x)函数的返回值是从0开始始的，并且是不包含x的，如range(4)返回的值是0，1，2，3，没有4\n",
    "\n",
    "for i in range(4):\n",
    "    print(i)"
   ]
  },
  {
   "cell_type": "code",
   "execution_count": 13,
   "metadata": {},
   "outputs": [
    {
     "name": "stdout",
     "output_type": "stream",
     "text": [
      "5\n",
      "6\n",
      "7\n",
      "8\n",
      "9\n"
     ]
    }
   ],
   "source": [
    "# range()函数可以有2个参数，分别表示起止区间\n",
    "for i in range(5,10):\n",
    "    print(i)"
   ]
  },
  {
   "cell_type": "code",
   "execution_count": 14,
   "metadata": {},
   "outputs": [
    {
     "name": "stdout",
     "output_type": "stream",
     "text": [
      "5\n",
      "8\n",
      "11\n",
      "14\n",
      "17\n"
     ]
    }
   ],
   "source": [
    "# 可以再增加第3个参数，表示步长\n",
    "for i in range(5,20,3):\n",
    "    print(i)"
   ]
  },
  {
   "cell_type": "code",
   "execution_count": 15,
   "metadata": {},
   "outputs": [
    {
     "name": "stdout",
     "output_type": "stream",
     "text": [
      "4与9相加等于13\n"
     ]
    },
    {
     "data": {
      "text/plain": [
       "13"
      ]
     },
     "execution_count": 15,
     "metadata": {},
     "output_type": "execute_result"
    }
   ],
   "source": [
    "# 定义函数用def\n",
    "# Python程序块是用缩进，不象java那样用{}括起来\n",
    "# 建议缩进用4个空格\n",
    "def foo(param1,param2):\n",
    "    res = param1 + param2\n",
    "    print(\"%d与%d相加等于%d\" % (param1,param2,res))\n",
    "    return res\n",
    "\n",
    "foo(4,9)"
   ]
  },
  {
   "cell_type": "code",
   "execution_count": 16,
   "metadata": {},
   "outputs": [
    {
     "name": "stdout",
     "output_type": "stream",
     "text": [
      "4与9相加等于13\n"
     ]
    }
   ],
   "source": [
    "# 函数被调用\n",
    "x = foo(4,9)"
   ]
  },
  {
   "cell_type": "code",
   "execution_count": 17,
   "metadata": {},
   "outputs": [
    {
     "name": "stdout",
     "output_type": "stream",
     "text": [
      "13\n"
     ]
    }
   ],
   "source": [
    "# 观察函数的返回值是否赋给了x\n",
    "print(x)"
   ]
  }
 ],
 "metadata": {
  "kernelspec": {
   "display_name": "Python 3",
   "language": "python",
   "name": "python3"
  },
  "language_info": {
   "codemirror_mode": {
    "name": "ipython",
    "version": 3
   },
   "file_extension": ".py",
   "mimetype": "text/x-python",
   "name": "python",
   "nbconvert_exporter": "python",
   "pygments_lexer": "ipython3",
   "version": "3.7.6"
  }
 },
 "nbformat": 4,
 "nbformat_minor": 4
}
